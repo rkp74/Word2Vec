{
  "nbformat": 4,
  "nbformat_minor": 0,
  "metadata": {
    "colab": {
      "provenance": [],
      "authorship_tag": "ABX9TyNmr6x7KWNqthm1c6GENULQ",
      "include_colab_link": true
    },
    "kernelspec": {
      "name": "python3",
      "display_name": "Python 3"
    },
    "language_info": {
      "name": "python"
    }
  },
  "cells": [
    {
      "cell_type": "markdown",
      "metadata": {
        "id": "view-in-github",
        "colab_type": "text"
      },
      "source": [
        "<a href=\"https://colab.research.google.com/github/rkp74/Word2Vec/blob/main/Word2Vec.ipynb\" target=\"_parent\"><img src=\"https://colab.research.google.com/assets/colab-badge.svg\" alt=\"Open In Colab\"/></a>"
      ]
    },
    {
      "cell_type": "code",
      "source": [
        "!pip install gensim==3.8.0"
      ],
      "metadata": {
        "colab": {
          "base_uri": "https://localhost:8080/"
        },
        "id": "ncj8OcpdB_7t",
        "outputId": "f99f9919-d19a-4326-8aaa-2091fdffef27"
      },
      "execution_count": 1,
      "outputs": [
        {
          "output_type": "stream",
          "name": "stdout",
          "text": [
            "Looking in indexes: https://pypi.org/simple, https://us-python.pkg.dev/colab-wheels/public/simple/\n",
            "Requirement already satisfied: gensim==3.8.0 in /usr/local/lib/python3.9/dist-packages (3.8.0)\n",
            "Requirement already satisfied: smart-open>=1.7.0 in /usr/local/lib/python3.9/dist-packages (from gensim==3.8.0) (6.3.0)\n",
            "Requirement already satisfied: six>=1.5.0 in /usr/local/lib/python3.9/dist-packages (from gensim==3.8.0) (1.15.0)\n",
            "Requirement already satisfied: scipy>=0.18.1 in /usr/local/lib/python3.9/dist-packages (from gensim==3.8.0) (1.10.1)\n",
            "Requirement already satisfied: numpy>=1.11.3 in /usr/local/lib/python3.9/dist-packages (from gensim==3.8.0) (1.22.4)\n"
          ]
        }
      ]
    },
    {
      "cell_type": "code",
      "execution_count": 2,
      "metadata": {
        "id": "vaA1h4yxBfBu"
      },
      "outputs": [],
      "source": [
        "import re\n",
        "import nltk\n",
        "from gensim.models import Word2Vec\n",
        "from nltk.corpus import stopwords"
      ]
    },
    {
      "cell_type": "code",
      "source": [
        "nltk.download('punkt')\n",
        "nltk.download('stopwords')"
      ],
      "metadata": {
        "colab": {
          "base_uri": "https://localhost:8080/"
        },
        "id": "UO5YORBl193D",
        "outputId": "9e986bcc-4951-4eee-97f3-8f2823760314"
      },
      "execution_count": 3,
      "outputs": [
        {
          "output_type": "stream",
          "name": "stderr",
          "text": [
            "[nltk_data] Downloading package punkt to /root/nltk_data...\n",
            "[nltk_data]   Package punkt is already up-to-date!\n",
            "[nltk_data] Downloading package stopwords to /root/nltk_data...\n",
            "[nltk_data]   Package stopwords is already up-to-date!\n"
          ]
        },
        {
          "output_type": "execute_result",
          "data": {
            "text/plain": [
              "True"
            ]
          },
          "metadata": {},
          "execution_count": 3
        }
      ]
    },
    {
      "cell_type": "code",
      "source": [
        "paragraph = \"\"\"Deep learning is part of a broader family of machine learning methods based on artificial neural networks with representation learning. Learning can be supervised, semi-supervised or unsupervised.[2]\n",
        "\n",
        "Deep-learning architectures such as deep neural networks, deep belief networks, deep reinforcement learning, recurrent neural networks, convolutional neural networks and transformers have been applied to fields including computer vision, speech recognition, natural language processing, machine translation, bioinformatics, drug design, medical image analysis, climate science, material inspection and board game programs, where they have produced results comparable to and in some cases surpassing human expert performance.[3][4][5]\n",
        "\n",
        "Artificial neural networks (ANNs) were inspired by information processing and distributed communication nodes in biological systems. ANNs have various differences from biological brains. Specifically, artificial neural networks tend to be static and symbolic, while the biological brain of most living organisms is dynamic (plastic) and analog.[6][7]\n",
        "\n",
        "The adjective \"deep\" in deep learning refers to the use of multiple layers in the network. Early work showed that a linear perceptron cannot be a universal classifier, but that a network with a nonpolynomial activation function with one hidden layer of unbounded width can. Deep learning is a modern variation that is concerned with an unbounded number of layers of bounded size, which permits practical application and optimized implementation, while retaining theoretical universality under mild conditions. In deep learning the layers are also permitted to be heterogeneous and to deviate widely from biologically informed connectionist models, for the sake of efficiency, trainability and understandability.\"\"\""
      ],
      "metadata": {
        "id": "AUoPP2ctBw9C"
      },
      "execution_count": 4,
      "outputs": []
    },
    {
      "cell_type": "code",
      "source": [
        "# pre processing the data\n",
        "text = re.sub(r'\\[[0-9]*\\]' , ' ', paragraph)\n",
        "text = re.sub(r'\\s+', ' ',text)\n",
        "text = text.lower()\n",
        "text = re.sub(r'\\d', ' ',text)\n",
        "text = re.sub(r'\\s+', ' ',text)\n",
        "print(text)"
      ],
      "metadata": {
        "colab": {
          "base_uri": "https://localhost:8080/"
        },
        "id": "2cwt3Ess0rvC",
        "outputId": "0a8ad1a5-1d49-48f4-b5bd-9d2608653edd"
      },
      "execution_count": 5,
      "outputs": [
        {
          "output_type": "stream",
          "name": "stdout",
          "text": [
            "deep learning is part of a broader family of machine learning methods based on artificial neural networks with representation learning. learning can be supervised, semi-supervised or unsupervised. deep-learning architectures such as deep neural networks, deep belief networks, deep reinforcement learning, recurrent neural networks, convolutional neural networks and transformers have been applied to fields including computer vision, speech recognition, natural language processing, machine translation, bioinformatics, drug design, medical image analysis, climate science, material inspection and board game programs, where they have produced results comparable to and in some cases surpassing human expert performance. artificial neural networks (anns) were inspired by information processing and distributed communication nodes in biological systems. anns have various differences from biological brains. specifically, artificial neural networks tend to be static and symbolic, while the biological brain of most living organisms is dynamic (plastic) and analog. the adjective \"deep\" in deep learning refers to the use of multiple layers in the network. early work showed that a linear perceptron cannot be a universal classifier, but that a network with a nonpolynomial activation function with one hidden layer of unbounded width can. deep learning is a modern variation that is concerned with an unbounded number of layers of bounded size, which permits practical application and optimized implementation, while retaining theoretical universality under mild conditions. in deep learning the layers are also permitted to be heterogeneous and to deviate widely from biologically informed connectionist models, for the sake of efficiency, trainability and understandability.\n"
          ]
        }
      ]
    },
    {
      "cell_type": "code",
      "source": [
        "sentences = nltk.sent_tokenize(text)\n",
        "print(sentences)"
      ],
      "metadata": {
        "colab": {
          "base_uri": "https://localhost:8080/"
        },
        "id": "Q1Rbh0T511AA",
        "outputId": "ddc316bd-9925-4809-8506-94d048e43700"
      },
      "execution_count": 6,
      "outputs": [
        {
          "output_type": "stream",
          "name": "stdout",
          "text": [
            "['deep learning is part of a broader family of machine learning methods based on artificial neural networks with representation learning.', 'learning can be supervised, semi-supervised or unsupervised.', 'deep-learning architectures such as deep neural networks, deep belief networks, deep reinforcement learning, recurrent neural networks, convolutional neural networks and transformers have been applied to fields including computer vision, speech recognition, natural language processing, machine translation, bioinformatics, drug design, medical image analysis, climate science, material inspection and board game programs, where they have produced results comparable to and in some cases surpassing human expert performance.', 'artificial neural networks (anns) were inspired by information processing and distributed communication nodes in biological systems.', 'anns have various differences from biological brains.', 'specifically, artificial neural networks tend to be static and symbolic, while the biological brain of most living organisms is dynamic (plastic) and analog.', 'the adjective \"deep\" in deep learning refers to the use of multiple layers in the network.', 'early work showed that a linear perceptron cannot be a universal classifier, but that a network with a nonpolynomial activation function with one hidden layer of unbounded width can.', 'deep learning is a modern variation that is concerned with an unbounded number of layers of bounded size, which permits practical application and optimized implementation, while retaining theoretical universality under mild conditions.', 'in deep learning the layers are also permitted to be heterogeneous and to deviate widely from biologically informed connectionist models, for the sake of efficiency, trainability and understandability.']\n"
          ]
        }
      ]
    },
    {
      "cell_type": "code",
      "source": [
        "sentences = [nltk.word_tokenize(sentence) for sentence in sentences]\n",
        "print(sentences)"
      ],
      "metadata": {
        "colab": {
          "base_uri": "https://localhost:8080/"
        },
        "id": "ERGPWvgb2KFk",
        "outputId": "89573579-ee84-4957-889e-c13255cdd5a5"
      },
      "execution_count": 7,
      "outputs": [
        {
          "output_type": "stream",
          "name": "stdout",
          "text": [
            "[['deep', 'learning', 'is', 'part', 'of', 'a', 'broader', 'family', 'of', 'machine', 'learning', 'methods', 'based', 'on', 'artificial', 'neural', 'networks', 'with', 'representation', 'learning', '.'], ['learning', 'can', 'be', 'supervised', ',', 'semi-supervised', 'or', 'unsupervised', '.'], ['deep-learning', 'architectures', 'such', 'as', 'deep', 'neural', 'networks', ',', 'deep', 'belief', 'networks', ',', 'deep', 'reinforcement', 'learning', ',', 'recurrent', 'neural', 'networks', ',', 'convolutional', 'neural', 'networks', 'and', 'transformers', 'have', 'been', 'applied', 'to', 'fields', 'including', 'computer', 'vision', ',', 'speech', 'recognition', ',', 'natural', 'language', 'processing', ',', 'machine', 'translation', ',', 'bioinformatics', ',', 'drug', 'design', ',', 'medical', 'image', 'analysis', ',', 'climate', 'science', ',', 'material', 'inspection', 'and', 'board', 'game', 'programs', ',', 'where', 'they', 'have', 'produced', 'results', 'comparable', 'to', 'and', 'in', 'some', 'cases', 'surpassing', 'human', 'expert', 'performance', '.'], ['artificial', 'neural', 'networks', '(', 'anns', ')', 'were', 'inspired', 'by', 'information', 'processing', 'and', 'distributed', 'communication', 'nodes', 'in', 'biological', 'systems', '.'], ['anns', 'have', 'various', 'differences', 'from', 'biological', 'brains', '.'], ['specifically', ',', 'artificial', 'neural', 'networks', 'tend', 'to', 'be', 'static', 'and', 'symbolic', ',', 'while', 'the', 'biological', 'brain', 'of', 'most', 'living', 'organisms', 'is', 'dynamic', '(', 'plastic', ')', 'and', 'analog', '.'], ['the', 'adjective', '``', 'deep', \"''\", 'in', 'deep', 'learning', 'refers', 'to', 'the', 'use', 'of', 'multiple', 'layers', 'in', 'the', 'network', '.'], ['early', 'work', 'showed', 'that', 'a', 'linear', 'perceptron', 'can', 'not', 'be', 'a', 'universal', 'classifier', ',', 'but', 'that', 'a', 'network', 'with', 'a', 'nonpolynomial', 'activation', 'function', 'with', 'one', 'hidden', 'layer', 'of', 'unbounded', 'width', 'can', '.'], ['deep', 'learning', 'is', 'a', 'modern', 'variation', 'that', 'is', 'concerned', 'with', 'an', 'unbounded', 'number', 'of', 'layers', 'of', 'bounded', 'size', ',', 'which', 'permits', 'practical', 'application', 'and', 'optimized', 'implementation', ',', 'while', 'retaining', 'theoretical', 'universality', 'under', 'mild', 'conditions', '.'], ['in', 'deep', 'learning', 'the', 'layers', 'are', 'also', 'permitted', 'to', 'be', 'heterogeneous', 'and', 'to', 'deviate', 'widely', 'from', 'biologically', 'informed', 'connectionist', 'models', ',', 'for', 'the', 'sake', 'of', 'efficiency', ',', 'trainability', 'and', 'understandability', '.']]\n"
          ]
        }
      ]
    },
    {
      "cell_type": "code",
      "source": [
        "for i in range(len(sentences)):\n",
        "  sentences[i] = [word for word in sentences[i] if word not in stopwords.words('english')]\n",
        "print(sentences)  "
      ],
      "metadata": {
        "colab": {
          "base_uri": "https://localhost:8080/"
        },
        "id": "k6YshdHf2tmV",
        "outputId": "a55d6ad3-b37b-4cd0-bb78-e1921b63e921"
      },
      "execution_count": 8,
      "outputs": [
        {
          "output_type": "stream",
          "name": "stdout",
          "text": [
            "[['deep', 'learning', 'part', 'broader', 'family', 'machine', 'learning', 'methods', 'based', 'artificial', 'neural', 'networks', 'representation', 'learning', '.'], ['learning', 'supervised', ',', 'semi-supervised', 'unsupervised', '.'], ['deep-learning', 'architectures', 'deep', 'neural', 'networks', ',', 'deep', 'belief', 'networks', ',', 'deep', 'reinforcement', 'learning', ',', 'recurrent', 'neural', 'networks', ',', 'convolutional', 'neural', 'networks', 'transformers', 'applied', 'fields', 'including', 'computer', 'vision', ',', 'speech', 'recognition', ',', 'natural', 'language', 'processing', ',', 'machine', 'translation', ',', 'bioinformatics', ',', 'drug', 'design', ',', 'medical', 'image', 'analysis', ',', 'climate', 'science', ',', 'material', 'inspection', 'board', 'game', 'programs', ',', 'produced', 'results', 'comparable', 'cases', 'surpassing', 'human', 'expert', 'performance', '.'], ['artificial', 'neural', 'networks', '(', 'anns', ')', 'inspired', 'information', 'processing', 'distributed', 'communication', 'nodes', 'biological', 'systems', '.'], ['anns', 'various', 'differences', 'biological', 'brains', '.'], ['specifically', ',', 'artificial', 'neural', 'networks', 'tend', 'static', 'symbolic', ',', 'biological', 'brain', 'living', 'organisms', 'dynamic', '(', 'plastic', ')', 'analog', '.'], ['adjective', '``', 'deep', \"''\", 'deep', 'learning', 'refers', 'use', 'multiple', 'layers', 'network', '.'], ['early', 'work', 'showed', 'linear', 'perceptron', 'universal', 'classifier', ',', 'network', 'nonpolynomial', 'activation', 'function', 'one', 'hidden', 'layer', 'unbounded', 'width', '.'], ['deep', 'learning', 'modern', 'variation', 'concerned', 'unbounded', 'number', 'layers', 'bounded', 'size', ',', 'permits', 'practical', 'application', 'optimized', 'implementation', ',', 'retaining', 'theoretical', 'universality', 'mild', 'conditions', '.'], ['deep', 'learning', 'layers', 'also', 'permitted', 'heterogeneous', 'deviate', 'widely', 'biologically', 'informed', 'connectionist', 'models', ',', 'sake', 'efficiency', ',', 'trainability', 'understandability', '.']]\n"
          ]
        }
      ]
    },
    {
      "cell_type": "code",
      "source": [
        "# Training Word2Vec Model\n",
        "model = Word2Vec(sentences,min_count=1)\n"
      ],
      "metadata": {
        "colab": {
          "base_uri": "https://localhost:8080/"
        },
        "id": "Hmbb_R8B3ZQQ",
        "outputId": "11d52b47-3ecd-4939-cbc3-6e8698dc782b"
      },
      "execution_count": 9,
      "outputs": [
        {
          "output_type": "stream",
          "name": "stderr",
          "text": [
            "WARNING:gensim.models.base_any2vec:under 10 jobs per worker: consider setting a smaller `batch_words' for smoother alpha decay\n"
          ]
        }
      ]
    },
    {
      "cell_type": "code",
      "source": [
        "words = model.wv.vocab\n",
        "print(words)"
      ],
      "metadata": {
        "colab": {
          "base_uri": "https://localhost:8080/"
        },
        "id": "NeW_JRMY37F4",
        "outputId": "46dd06d0-c35f-4a7b-8c03-cf2dad45e5f4"
      },
      "execution_count": 12,
      "outputs": [
        {
          "output_type": "stream",
          "name": "stdout",
          "text": [
            "{'deep': <gensim.models.keyedvectors.Vocab object at 0x7f7c765b5160>, 'learning': <gensim.models.keyedvectors.Vocab object at 0x7f7c765b54f0>, 'part': <gensim.models.keyedvectors.Vocab object at 0x7f7c765b59a0>, 'broader': <gensim.models.keyedvectors.Vocab object at 0x7f7c765b59d0>, 'family': <gensim.models.keyedvectors.Vocab object at 0x7f7c765b5790>, 'machine': <gensim.models.keyedvectors.Vocab object at 0x7f7c765b5400>, 'methods': <gensim.models.keyedvectors.Vocab object at 0x7f7c765b5490>, 'based': <gensim.models.keyedvectors.Vocab object at 0x7f7c765b57c0>, 'artificial': <gensim.models.keyedvectors.Vocab object at 0x7f7c765b5700>, 'neural': <gensim.models.keyedvectors.Vocab object at 0x7f7c765b5ca0>, 'networks': <gensim.models.keyedvectors.Vocab object at 0x7f7c765b57f0>, 'representation': <gensim.models.keyedvectors.Vocab object at 0x7f7c765b58e0>, '.': <gensim.models.keyedvectors.Vocab object at 0x7f7c765b58b0>, 'supervised': <gensim.models.keyedvectors.Vocab object at 0x7f7c765b51f0>, ',': <gensim.models.keyedvectors.Vocab object at 0x7f7c765b5940>, 'semi-supervised': <gensim.models.keyedvectors.Vocab object at 0x7f7c765b5760>, 'unsupervised': <gensim.models.keyedvectors.Vocab object at 0x7f7c765b5880>, 'deep-learning': <gensim.models.keyedvectors.Vocab object at 0x7f7c765b5460>, 'architectures': <gensim.models.keyedvectors.Vocab object at 0x7f7c765b5be0>, 'belief': <gensim.models.keyedvectors.Vocab object at 0x7f7c765b5670>, 'reinforcement': <gensim.models.keyedvectors.Vocab object at 0x7f7c765b5a60>, 'recurrent': <gensim.models.keyedvectors.Vocab object at 0x7f7c765b5e80>, 'convolutional': <gensim.models.keyedvectors.Vocab object at 0x7f7c765b5ac0>, 'transformers': <gensim.models.keyedvectors.Vocab object at 0x7f7c765b5b50>, 'applied': <gensim.models.keyedvectors.Vocab object at 0x7f7c765b5af0>, 'fields': <gensim.models.keyedvectors.Vocab object at 0x7f7c765b5d30>, 'including': <gensim.models.keyedvectors.Vocab object at 0x7f7c765b5d90>, 'computer': <gensim.models.keyedvectors.Vocab object at 0x7f7c765b5df0>, 'vision': <gensim.models.keyedvectors.Vocab object at 0x7f7c765b5f10>, 'speech': <gensim.models.keyedvectors.Vocab object at 0x7f7c765b5250>, 'recognition': <gensim.models.keyedvectors.Vocab object at 0x7f7c76512040>, 'natural': <gensim.models.keyedvectors.Vocab object at 0x7f7c765120a0>, 'language': <gensim.models.keyedvectors.Vocab object at 0x7f7c76512100>, 'processing': <gensim.models.keyedvectors.Vocab object at 0x7f7c76512160>, 'translation': <gensim.models.keyedvectors.Vocab object at 0x7f7c765121c0>, 'bioinformatics': <gensim.models.keyedvectors.Vocab object at 0x7f7c76512220>, 'drug': <gensim.models.keyedvectors.Vocab object at 0x7f7c76512280>, 'design': <gensim.models.keyedvectors.Vocab object at 0x7f7c765122e0>, 'medical': <gensim.models.keyedvectors.Vocab object at 0x7f7c76512340>, 'image': <gensim.models.keyedvectors.Vocab object at 0x7f7c765123a0>, 'analysis': <gensim.models.keyedvectors.Vocab object at 0x7f7c76512400>, 'climate': <gensim.models.keyedvectors.Vocab object at 0x7f7c76512460>, 'science': <gensim.models.keyedvectors.Vocab object at 0x7f7c765124c0>, 'material': <gensim.models.keyedvectors.Vocab object at 0x7f7c76512520>, 'inspection': <gensim.models.keyedvectors.Vocab object at 0x7f7c76512580>, 'board': <gensim.models.keyedvectors.Vocab object at 0x7f7c765125e0>, 'game': <gensim.models.keyedvectors.Vocab object at 0x7f7c76512640>, 'programs': <gensim.models.keyedvectors.Vocab object at 0x7f7c765126a0>, 'produced': <gensim.models.keyedvectors.Vocab object at 0x7f7c76512700>, 'results': <gensim.models.keyedvectors.Vocab object at 0x7f7c76512760>, 'comparable': <gensim.models.keyedvectors.Vocab object at 0x7f7c765127c0>, 'cases': <gensim.models.keyedvectors.Vocab object at 0x7f7c76512820>, 'surpassing': <gensim.models.keyedvectors.Vocab object at 0x7f7c76512880>, 'human': <gensim.models.keyedvectors.Vocab object at 0x7f7c765128e0>, 'expert': <gensim.models.keyedvectors.Vocab object at 0x7f7c76512940>, 'performance': <gensim.models.keyedvectors.Vocab object at 0x7f7c765129a0>, '(': <gensim.models.keyedvectors.Vocab object at 0x7f7c76512a00>, 'anns': <gensim.models.keyedvectors.Vocab object at 0x7f7c76512a60>, ')': <gensim.models.keyedvectors.Vocab object at 0x7f7c76512ac0>, 'inspired': <gensim.models.keyedvectors.Vocab object at 0x7f7c76512b20>, 'information': <gensim.models.keyedvectors.Vocab object at 0x7f7c76512b80>, 'distributed': <gensim.models.keyedvectors.Vocab object at 0x7f7c76512be0>, 'communication': <gensim.models.keyedvectors.Vocab object at 0x7f7c76512c40>, 'nodes': <gensim.models.keyedvectors.Vocab object at 0x7f7c76512ca0>, 'biological': <gensim.models.keyedvectors.Vocab object at 0x7f7c76512d00>, 'systems': <gensim.models.keyedvectors.Vocab object at 0x7f7c76512d60>, 'various': <gensim.models.keyedvectors.Vocab object at 0x7f7c76512dc0>, 'differences': <gensim.models.keyedvectors.Vocab object at 0x7f7c76512e20>, 'brains': <gensim.models.keyedvectors.Vocab object at 0x7f7c76512e80>, 'specifically': <gensim.models.keyedvectors.Vocab object at 0x7f7c76512ee0>, 'tend': <gensim.models.keyedvectors.Vocab object at 0x7f7c76512f40>, 'static': <gensim.models.keyedvectors.Vocab object at 0x7f7c76512fa0>, 'symbolic': <gensim.models.keyedvectors.Vocab object at 0x7f7c76511040>, 'brain': <gensim.models.keyedvectors.Vocab object at 0x7f7c765110a0>, 'living': <gensim.models.keyedvectors.Vocab object at 0x7f7c76511100>, 'organisms': <gensim.models.keyedvectors.Vocab object at 0x7f7c76511160>, 'dynamic': <gensim.models.keyedvectors.Vocab object at 0x7f7c765111c0>, 'plastic': <gensim.models.keyedvectors.Vocab object at 0x7f7c76511220>, 'analog': <gensim.models.keyedvectors.Vocab object at 0x7f7c76511280>, 'adjective': <gensim.models.keyedvectors.Vocab object at 0x7f7c765112e0>, '``': <gensim.models.keyedvectors.Vocab object at 0x7f7c76511340>, \"''\": <gensim.models.keyedvectors.Vocab object at 0x7f7c765113a0>, 'refers': <gensim.models.keyedvectors.Vocab object at 0x7f7c76511400>, 'use': <gensim.models.keyedvectors.Vocab object at 0x7f7c76511460>, 'multiple': <gensim.models.keyedvectors.Vocab object at 0x7f7c765114c0>, 'layers': <gensim.models.keyedvectors.Vocab object at 0x7f7c76511520>, 'network': <gensim.models.keyedvectors.Vocab object at 0x7f7c76511580>, 'early': <gensim.models.keyedvectors.Vocab object at 0x7f7c765115e0>, 'work': <gensim.models.keyedvectors.Vocab object at 0x7f7c76511640>, 'showed': <gensim.models.keyedvectors.Vocab object at 0x7f7c765116a0>, 'linear': <gensim.models.keyedvectors.Vocab object at 0x7f7c76511700>, 'perceptron': <gensim.models.keyedvectors.Vocab object at 0x7f7c76511760>, 'universal': <gensim.models.keyedvectors.Vocab object at 0x7f7c765117c0>, 'classifier': <gensim.models.keyedvectors.Vocab object at 0x7f7c76511820>, 'nonpolynomial': <gensim.models.keyedvectors.Vocab object at 0x7f7c76511880>, 'activation': <gensim.models.keyedvectors.Vocab object at 0x7f7c765118e0>, 'function': <gensim.models.keyedvectors.Vocab object at 0x7f7c76511940>, 'one': <gensim.models.keyedvectors.Vocab object at 0x7f7c765119a0>, 'hidden': <gensim.models.keyedvectors.Vocab object at 0x7f7c76511a00>, 'layer': <gensim.models.keyedvectors.Vocab object at 0x7f7c76511a60>, 'unbounded': <gensim.models.keyedvectors.Vocab object at 0x7f7c76511ac0>, 'width': <gensim.models.keyedvectors.Vocab object at 0x7f7c76511b20>, 'modern': <gensim.models.keyedvectors.Vocab object at 0x7f7c76511b80>, 'variation': <gensim.models.keyedvectors.Vocab object at 0x7f7c76511be0>, 'concerned': <gensim.models.keyedvectors.Vocab object at 0x7f7c76511c40>, 'number': <gensim.models.keyedvectors.Vocab object at 0x7f7c76511ca0>, 'bounded': <gensim.models.keyedvectors.Vocab object at 0x7f7c76511d00>, 'size': <gensim.models.keyedvectors.Vocab object at 0x7f7c76511d60>, 'permits': <gensim.models.keyedvectors.Vocab object at 0x7f7c76511dc0>, 'practical': <gensim.models.keyedvectors.Vocab object at 0x7f7c76511e20>, 'application': <gensim.models.keyedvectors.Vocab object at 0x7f7c76511e80>, 'optimized': <gensim.models.keyedvectors.Vocab object at 0x7f7c76511ee0>, 'implementation': <gensim.models.keyedvectors.Vocab object at 0x7f7c76511f40>, 'retaining': <gensim.models.keyedvectors.Vocab object at 0x7f7c76511fa0>, 'theoretical': <gensim.models.keyedvectors.Vocab object at 0x7f7c76513040>, 'universality': <gensim.models.keyedvectors.Vocab object at 0x7f7c765130a0>, 'mild': <gensim.models.keyedvectors.Vocab object at 0x7f7c76513100>, 'conditions': <gensim.models.keyedvectors.Vocab object at 0x7f7c76513160>, 'also': <gensim.models.keyedvectors.Vocab object at 0x7f7c765131c0>, 'permitted': <gensim.models.keyedvectors.Vocab object at 0x7f7c76513220>, 'heterogeneous': <gensim.models.keyedvectors.Vocab object at 0x7f7c76513280>, 'deviate': <gensim.models.keyedvectors.Vocab object at 0x7f7c765132e0>, 'widely': <gensim.models.keyedvectors.Vocab object at 0x7f7c76513340>, 'biologically': <gensim.models.keyedvectors.Vocab object at 0x7f7c765133a0>, 'informed': <gensim.models.keyedvectors.Vocab object at 0x7f7c76513400>, 'connectionist': <gensim.models.keyedvectors.Vocab object at 0x7f7c76513460>, 'models': <gensim.models.keyedvectors.Vocab object at 0x7f7c765134c0>, 'sake': <gensim.models.keyedvectors.Vocab object at 0x7f7c76513520>, 'efficiency': <gensim.models.keyedvectors.Vocab object at 0x7f7c76513580>, 'trainability': <gensim.models.keyedvectors.Vocab object at 0x7f7c765135e0>, 'understandability': <gensim.models.keyedvectors.Vocab object at 0x7f7c76513640>}\n"
          ]
        }
      ]
    },
    {
      "cell_type": "code",
      "source": [
        "# 100 dimensions vector\n",
        "vector = model.wv['part']\n",
        "print(vector)"
      ],
      "metadata": {
        "colab": {
          "base_uri": "https://localhost:8080/"
        },
        "id": "J49gE7635U_O",
        "outputId": "0d06b735-f432-440a-e5e5-68e15dd1a029"
      },
      "execution_count": 16,
      "outputs": [
        {
          "output_type": "stream",
          "name": "stdout",
          "text": [
            "[ 5.7289604e-04 -7.4463134e-04  1.7525585e-03 -3.7144918e-03\n",
            " -4.3192012e-03 -4.3698605e-03 -2.1387590e-03  1.6200213e-03\n",
            "  2.1089145e-03 -3.7693991e-03 -6.7064364e-04  8.3199778e-04\n",
            " -1.3444620e-03  2.7100246e-03 -4.6688751e-03  3.3029702e-03\n",
            " -6.6370406e-04 -8.0879789e-04 -1.3306815e-03 -3.2415448e-03\n",
            " -9.9040575e-05  9.5837226e-04  1.6042080e-03 -3.9054608e-04\n",
            " -6.8232813e-04 -1.5473418e-03 -4.9504540e-03  2.3535138e-03\n",
            " -4.7037294e-03 -4.7341995e-03  5.8818504e-04  3.2780436e-03\n",
            " -1.1243165e-04  4.4041416e-03  1.4019462e-03 -2.7924369e-03\n",
            " -2.9932056e-03 -1.7111819e-03  2.8150077e-03 -1.1806213e-03\n",
            " -1.9911185e-03 -3.2946942e-03 -3.1536337e-04  1.7932738e-03\n",
            " -1.7620604e-03  6.6932582e-04 -3.1648364e-03  3.3356268e-03\n",
            "  4.9679020e-05  1.8547479e-03  3.0991826e-03 -4.3242872e-03\n",
            " -4.1814651e-03 -4.3928125e-03  4.4800583e-03 -4.3390417e-03\n",
            "  3.3568398e-03 -3.8740135e-04 -2.1745791e-03  1.7245754e-03\n",
            " -2.3911560e-03 -2.1234942e-03  4.6531442e-03  4.5126332e-03\n",
            " -4.7610048e-03  2.2716401e-03 -1.9762851e-03 -9.0901670e-04\n",
            " -8.9517608e-04 -1.8655211e-03  4.2103287e-03 -2.4671326e-03\n",
            " -3.5232010e-03  8.6560426e-04  3.6006074e-03  8.0174970e-04\n",
            " -4.6700584e-03 -7.5283775e-04 -4.4658813e-03  4.6896446e-03\n",
            "  1.2707849e-03 -4.7267131e-03 -3.7765524e-03  3.4254068e-03\n",
            " -7.2004349e-04  2.0381939e-03  2.2283809e-03 -6.8414479e-04\n",
            "  3.6857936e-03 -2.6405312e-03 -2.6130385e-03 -1.5738648e-03\n",
            "  1.6463450e-03 -4.9760500e-03 -3.3231976e-03 -8.7381876e-04\n",
            "  3.0121251e-03 -2.5554672e-03  8.4455422e-04  4.0971590e-03]\n"
          ]
        }
      ]
    },
    {
      "cell_type": "code",
      "source": [
        "similar = model.wv.most_similar('part')\n",
        "print(similar)"
      ],
      "metadata": {
        "colab": {
          "base_uri": "https://localhost:8080/"
        },
        "id": "20PIgO5D5qdj",
        "outputId": "adf7fdeb-1861-4a22-cece-d88b5fd80498"
      },
      "execution_count": 15,
      "outputs": [
        {
          "output_type": "stream",
          "name": "stdout",
          "text": [
            "[('information', 0.2727777659893036), ('universal', 0.1977287232875824), ('nonpolynomial', 0.17490459978580475), ('bioinformatics', 0.1732565462589264), (\"''\", 0.16303634643554688), ('hidden', 0.15486356616020203), ('unbounded', 0.1522982269525528), ('communication', 0.14927473664283752), ('inspection', 0.12835752964019775), ('vision', 0.12643203139305115)]\n"
          ]
        }
      ]
    }
  ]
}