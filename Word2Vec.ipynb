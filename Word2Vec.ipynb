{
  "nbformat": 4,
  "nbformat_minor": 0,
  "metadata": {
    "colab": {
      "provenance": [],
      "authorship_tag": "ABX9TyPDyZY84Y80KoCoko8ItryK",
      "include_colab_link": true
    },
    "kernelspec": {
      "name": "python3",
      "display_name": "Python 3"
    },
    "language_info": {
      "name": "python"
    }
  },
  "cells": [
    {
      "cell_type": "markdown",
      "metadata": {
        "id": "view-in-github",
        "colab_type": "text"
      },
      "source": [
        "<a href=\"https://colab.research.google.com/github/rkp74/Word2Vec/blob/main/Word2Vec.ipynb\" target=\"_parent\"><img src=\"https://colab.research.google.com/assets/colab-badge.svg\" alt=\"Open In Colab\"/></a>"
      ]
    },
    {
      "cell_type": "code",
      "source": [
        "# Steps to Create Word2Vec\n",
        "# ~ Tokenization of Sentences\n",
        "# ~ Create Histograms\n",
        "# ~ Take Most Frequent words\n",
        "# ~ Create a matrix with all unique words.it also represent the occurence relation between the words."
      ],
      "metadata": {
        "id": "H56pub2p-6AN"
      },
      "execution_count": 1,
      "outputs": []
    },
    {
      "cell_type": "code",
      "source": [
        "!pip install gensim==3.8.0"
      ],
      "metadata": {
        "colab": {
          "base_uri": "https://localhost:8080/"
        },
        "id": "ncj8OcpdB_7t",
        "outputId": "455e1ccb-ed9f-4e05-e90e-f3ea446f3f66"
      },
      "execution_count": 2,
      "outputs": [
        {
          "output_type": "stream",
          "name": "stdout",
          "text": [
            "Looking in indexes: https://pypi.org/simple, https://us-python.pkg.dev/colab-wheels/public/simple/\n",
            "Collecting gensim==3.8.0\n",
            "  Downloading gensim-3.8.0.tar.gz (23.4 MB)\n",
            "\u001b[2K     \u001b[90m━━━━━━━━━━━━━━━━━━━━━━━━━━━━━━━━━━━━━━━━\u001b[0m \u001b[32m23.4/23.4 MB\u001b[0m \u001b[31m40.1 MB/s\u001b[0m eta \u001b[36m0:00:00\u001b[0m\n",
            "\u001b[?25h  Preparing metadata (setup.py) ... \u001b[?25l\u001b[?25hdone\n",
            "Requirement already satisfied: numpy>=1.11.3 in /usr/local/lib/python3.9/dist-packages (from gensim==3.8.0) (1.22.4)\n",
            "Requirement already satisfied: scipy>=0.18.1 in /usr/local/lib/python3.9/dist-packages (from gensim==3.8.0) (1.10.1)\n",
            "Requirement already satisfied: six>=1.5.0 in /usr/local/lib/python3.9/dist-packages (from gensim==3.8.0) (1.15.0)\n",
            "Requirement already satisfied: smart_open>=1.7.0 in /usr/local/lib/python3.9/dist-packages (from gensim==3.8.0) (6.3.0)\n",
            "Building wheels for collected packages: gensim\n",
            "  Building wheel for gensim (setup.py) ... \u001b[?25l\u001b[?25hdone\n",
            "  Created wheel for gensim: filename=gensim-3.8.0-cp39-cp39-linux_x86_64.whl size=24952701 sha256=a57e2d92dd2965a15da99dc4865cfb2e20e35af6324091167334a1770378a3fc\n",
            "  Stored in directory: /root/.cache/pip/wheels/fb/18/fa/2a0084905c1be0cead09a515d05015c1f939afb16fd7893ff4\n",
            "Successfully built gensim\n",
            "Installing collected packages: gensim\n",
            "  Attempting uninstall: gensim\n",
            "    Found existing installation: gensim 3.6.0\n",
            "    Uninstalling gensim-3.6.0:\n",
            "      Successfully uninstalled gensim-3.6.0\n",
            "Successfully installed gensim-3.8.0\n"
          ]
        }
      ]
    },
    {
      "cell_type": "code",
      "execution_count": 3,
      "metadata": {
        "id": "vaA1h4yxBfBu"
      },
      "outputs": [],
      "source": [
        "import re\n",
        "import nltk\n",
        "from gensim.models import Word2Vec\n",
        "from nltk.corpus import stopwords"
      ]
    },
    {
      "cell_type": "code",
      "source": [
        "nltk.download('punkt')\n",
        "nltk.download('stopwords')"
      ],
      "metadata": {
        "colab": {
          "base_uri": "https://localhost:8080/"
        },
        "id": "UO5YORBl193D",
        "outputId": "d9615f15-1d82-4fbf-cd06-ece50d24c66f"
      },
      "execution_count": 4,
      "outputs": [
        {
          "output_type": "stream",
          "name": "stderr",
          "text": [
            "[nltk_data] Downloading package punkt to /root/nltk_data...\n",
            "[nltk_data]   Unzipping tokenizers/punkt.zip.\n",
            "[nltk_data] Downloading package stopwords to /root/nltk_data...\n",
            "[nltk_data]   Unzipping corpora/stopwords.zip.\n"
          ]
        },
        {
          "output_type": "execute_result",
          "data": {
            "text/plain": [
              "True"
            ]
          },
          "metadata": {},
          "execution_count": 4
        }
      ]
    },
    {
      "cell_type": "code",
      "source": [
        "paragraph = \"\"\"Deep learning is part of a broader family of machine learning methods based on artificial neural networks with representation learning. Learning can be supervised, semi-supervised or unsupervised.[2]\n",
        "\n",
        "Deep-learning architectures such as deep neural networks, deep belief networks, deep reinforcement learning, recurrent neural networks, convolutional neural networks and transformers have been applied to fields including computer vision, speech recognition, natural language processing, machine translation, bioinformatics, drug design, medical image analysis, climate science, material inspection and board game programs, where they have produced results comparable to and in some cases surpassing human expert performance.[3][4][5]\n",
        "\n",
        "Artificial neural networks (ANNs) were inspired by information processing and distributed communication nodes in biological systems. ANNs have various differences from biological brains. Specifically, artificial neural networks tend to be static and symbolic, while the biological brain of most living organisms is dynamic (plastic) and analog.[6][7]\n",
        "\n",
        "The adjective \"deep\" in deep learning refers to the use of multiple layers in the network. Early work showed that a linear perceptron cannot be a universal classifier, but that a network with a nonpolynomial activation function with one hidden layer of unbounded width can. Deep learning is a modern variation that is concerned with an unbounded number of layers of bounded size, which permits practical application and optimized implementation, while retaining theoretical universality under mild conditions. In deep learning the layers are also permitted to be heterogeneous and to deviate widely from biologically informed connectionist models, for the sake of efficiency, trainability and understandability.\"\"\""
      ],
      "metadata": {
        "id": "AUoPP2ctBw9C"
      },
      "execution_count": 5,
      "outputs": []
    },
    {
      "cell_type": "code",
      "source": [
        "# pre processing the data\n",
        "text = re.sub(r'\\[[0-9]*\\]' , ' ', paragraph)\n",
        "text = re.sub(r'\\s+', ' ',text)\n",
        "text = text.lower()\n",
        "text = re.sub(r'\\d', ' ',text)\n",
        "text = re.sub(r'\\s+', ' ',text)\n",
        "print(text)"
      ],
      "metadata": {
        "colab": {
          "base_uri": "https://localhost:8080/"
        },
        "id": "2cwt3Ess0rvC",
        "outputId": "76d64ba8-c2b9-4977-e4d1-4c7ce7887397"
      },
      "execution_count": 6,
      "outputs": [
        {
          "output_type": "stream",
          "name": "stdout",
          "text": [
            "deep learning is part of a broader family of machine learning methods based on artificial neural networks with representation learning. learning can be supervised, semi-supervised or unsupervised. deep-learning architectures such as deep neural networks, deep belief networks, deep reinforcement learning, recurrent neural networks, convolutional neural networks and transformers have been applied to fields including computer vision, speech recognition, natural language processing, machine translation, bioinformatics, drug design, medical image analysis, climate science, material inspection and board game programs, where they have produced results comparable to and in some cases surpassing human expert performance. artificial neural networks (anns) were inspired by information processing and distributed communication nodes in biological systems. anns have various differences from biological brains. specifically, artificial neural networks tend to be static and symbolic, while the biological brain of most living organisms is dynamic (plastic) and analog. the adjective \"deep\" in deep learning refers to the use of multiple layers in the network. early work showed that a linear perceptron cannot be a universal classifier, but that a network with a nonpolynomial activation function with one hidden layer of unbounded width can. deep learning is a modern variation that is concerned with an unbounded number of layers of bounded size, which permits practical application and optimized implementation, while retaining theoretical universality under mild conditions. in deep learning the layers are also permitted to be heterogeneous and to deviate widely from biologically informed connectionist models, for the sake of efficiency, trainability and understandability.\n"
          ]
        }
      ]
    },
    {
      "cell_type": "code",
      "source": [
        "sentences = nltk.sent_tokenize(text)\n",
        "print(sentences)"
      ],
      "metadata": {
        "colab": {
          "base_uri": "https://localhost:8080/"
        },
        "id": "Q1Rbh0T511AA",
        "outputId": "cf7ce40d-8dba-4015-938d-6a3f382db58f"
      },
      "execution_count": 7,
      "outputs": [
        {
          "output_type": "stream",
          "name": "stdout",
          "text": [
            "['deep learning is part of a broader family of machine learning methods based on artificial neural networks with representation learning.', 'learning can be supervised, semi-supervised or unsupervised.', 'deep-learning architectures such as deep neural networks, deep belief networks, deep reinforcement learning, recurrent neural networks, convolutional neural networks and transformers have been applied to fields including computer vision, speech recognition, natural language processing, machine translation, bioinformatics, drug design, medical image analysis, climate science, material inspection and board game programs, where they have produced results comparable to and in some cases surpassing human expert performance.', 'artificial neural networks (anns) were inspired by information processing and distributed communication nodes in biological systems.', 'anns have various differences from biological brains.', 'specifically, artificial neural networks tend to be static and symbolic, while the biological brain of most living organisms is dynamic (plastic) and analog.', 'the adjective \"deep\" in deep learning refers to the use of multiple layers in the network.', 'early work showed that a linear perceptron cannot be a universal classifier, but that a network with a nonpolynomial activation function with one hidden layer of unbounded width can.', 'deep learning is a modern variation that is concerned with an unbounded number of layers of bounded size, which permits practical application and optimized implementation, while retaining theoretical universality under mild conditions.', 'in deep learning the layers are also permitted to be heterogeneous and to deviate widely from biologically informed connectionist models, for the sake of efficiency, trainability and understandability.']\n"
          ]
        }
      ]
    },
    {
      "cell_type": "code",
      "source": [
        "sentences = [nltk.word_tokenize(sentence) for sentence in sentences]\n",
        "print(sentences)"
      ],
      "metadata": {
        "colab": {
          "base_uri": "https://localhost:8080/"
        },
        "id": "ERGPWvgb2KFk",
        "outputId": "20341ce5-853f-4734-d794-6eedfb8c2c76"
      },
      "execution_count": 8,
      "outputs": [
        {
          "output_type": "stream",
          "name": "stdout",
          "text": [
            "[['deep', 'learning', 'is', 'part', 'of', 'a', 'broader', 'family', 'of', 'machine', 'learning', 'methods', 'based', 'on', 'artificial', 'neural', 'networks', 'with', 'representation', 'learning', '.'], ['learning', 'can', 'be', 'supervised', ',', 'semi-supervised', 'or', 'unsupervised', '.'], ['deep-learning', 'architectures', 'such', 'as', 'deep', 'neural', 'networks', ',', 'deep', 'belief', 'networks', ',', 'deep', 'reinforcement', 'learning', ',', 'recurrent', 'neural', 'networks', ',', 'convolutional', 'neural', 'networks', 'and', 'transformers', 'have', 'been', 'applied', 'to', 'fields', 'including', 'computer', 'vision', ',', 'speech', 'recognition', ',', 'natural', 'language', 'processing', ',', 'machine', 'translation', ',', 'bioinformatics', ',', 'drug', 'design', ',', 'medical', 'image', 'analysis', ',', 'climate', 'science', ',', 'material', 'inspection', 'and', 'board', 'game', 'programs', ',', 'where', 'they', 'have', 'produced', 'results', 'comparable', 'to', 'and', 'in', 'some', 'cases', 'surpassing', 'human', 'expert', 'performance', '.'], ['artificial', 'neural', 'networks', '(', 'anns', ')', 'were', 'inspired', 'by', 'information', 'processing', 'and', 'distributed', 'communication', 'nodes', 'in', 'biological', 'systems', '.'], ['anns', 'have', 'various', 'differences', 'from', 'biological', 'brains', '.'], ['specifically', ',', 'artificial', 'neural', 'networks', 'tend', 'to', 'be', 'static', 'and', 'symbolic', ',', 'while', 'the', 'biological', 'brain', 'of', 'most', 'living', 'organisms', 'is', 'dynamic', '(', 'plastic', ')', 'and', 'analog', '.'], ['the', 'adjective', '``', 'deep', \"''\", 'in', 'deep', 'learning', 'refers', 'to', 'the', 'use', 'of', 'multiple', 'layers', 'in', 'the', 'network', '.'], ['early', 'work', 'showed', 'that', 'a', 'linear', 'perceptron', 'can', 'not', 'be', 'a', 'universal', 'classifier', ',', 'but', 'that', 'a', 'network', 'with', 'a', 'nonpolynomial', 'activation', 'function', 'with', 'one', 'hidden', 'layer', 'of', 'unbounded', 'width', 'can', '.'], ['deep', 'learning', 'is', 'a', 'modern', 'variation', 'that', 'is', 'concerned', 'with', 'an', 'unbounded', 'number', 'of', 'layers', 'of', 'bounded', 'size', ',', 'which', 'permits', 'practical', 'application', 'and', 'optimized', 'implementation', ',', 'while', 'retaining', 'theoretical', 'universality', 'under', 'mild', 'conditions', '.'], ['in', 'deep', 'learning', 'the', 'layers', 'are', 'also', 'permitted', 'to', 'be', 'heterogeneous', 'and', 'to', 'deviate', 'widely', 'from', 'biologically', 'informed', 'connectionist', 'models', ',', 'for', 'the', 'sake', 'of', 'efficiency', ',', 'trainability', 'and', 'understandability', '.']]\n"
          ]
        }
      ]
    },
    {
      "cell_type": "code",
      "source": [
        "for i in range(len(sentences)):\n",
        "  sentences[i] = [word for word in sentences[i] if word not in stopwords.words('english')]\n",
        "print(sentences)  "
      ],
      "metadata": {
        "colab": {
          "base_uri": "https://localhost:8080/"
        },
        "id": "k6YshdHf2tmV",
        "outputId": "235c666c-a851-4167-b4d7-02c04c553aeb"
      },
      "execution_count": 9,
      "outputs": [
        {
          "output_type": "stream",
          "name": "stdout",
          "text": [
            "[['deep', 'learning', 'part', 'broader', 'family', 'machine', 'learning', 'methods', 'based', 'artificial', 'neural', 'networks', 'representation', 'learning', '.'], ['learning', 'supervised', ',', 'semi-supervised', 'unsupervised', '.'], ['deep-learning', 'architectures', 'deep', 'neural', 'networks', ',', 'deep', 'belief', 'networks', ',', 'deep', 'reinforcement', 'learning', ',', 'recurrent', 'neural', 'networks', ',', 'convolutional', 'neural', 'networks', 'transformers', 'applied', 'fields', 'including', 'computer', 'vision', ',', 'speech', 'recognition', ',', 'natural', 'language', 'processing', ',', 'machine', 'translation', ',', 'bioinformatics', ',', 'drug', 'design', ',', 'medical', 'image', 'analysis', ',', 'climate', 'science', ',', 'material', 'inspection', 'board', 'game', 'programs', ',', 'produced', 'results', 'comparable', 'cases', 'surpassing', 'human', 'expert', 'performance', '.'], ['artificial', 'neural', 'networks', '(', 'anns', ')', 'inspired', 'information', 'processing', 'distributed', 'communication', 'nodes', 'biological', 'systems', '.'], ['anns', 'various', 'differences', 'biological', 'brains', '.'], ['specifically', ',', 'artificial', 'neural', 'networks', 'tend', 'static', 'symbolic', ',', 'biological', 'brain', 'living', 'organisms', 'dynamic', '(', 'plastic', ')', 'analog', '.'], ['adjective', '``', 'deep', \"''\", 'deep', 'learning', 'refers', 'use', 'multiple', 'layers', 'network', '.'], ['early', 'work', 'showed', 'linear', 'perceptron', 'universal', 'classifier', ',', 'network', 'nonpolynomial', 'activation', 'function', 'one', 'hidden', 'layer', 'unbounded', 'width', '.'], ['deep', 'learning', 'modern', 'variation', 'concerned', 'unbounded', 'number', 'layers', 'bounded', 'size', ',', 'permits', 'practical', 'application', 'optimized', 'implementation', ',', 'retaining', 'theoretical', 'universality', 'mild', 'conditions', '.'], ['deep', 'learning', 'layers', 'also', 'permitted', 'heterogeneous', 'deviate', 'widely', 'biologically', 'informed', 'connectionist', 'models', ',', 'sake', 'efficiency', ',', 'trainability', 'understandability', '.']]\n"
          ]
        }
      ]
    },
    {
      "cell_type": "code",
      "source": [
        "# Training Word2Vec Model\n",
        "model = Word2Vec(sentences,min_count=1)\n"
      ],
      "metadata": {
        "colab": {
          "base_uri": "https://localhost:8080/"
        },
        "id": "Hmbb_R8B3ZQQ",
        "outputId": "1ac66475-cc2a-48d0-85de-b557caecc429"
      },
      "execution_count": 10,
      "outputs": [
        {
          "output_type": "stream",
          "name": "stderr",
          "text": [
            "WARNING:gensim.models.base_any2vec:under 10 jobs per worker: consider setting a smaller `batch_words' for smoother alpha decay\n"
          ]
        }
      ]
    },
    {
      "cell_type": "code",
      "source": [
        "words = model.wv.vocab\n",
        "print(words)"
      ],
      "metadata": {
        "colab": {
          "base_uri": "https://localhost:8080/"
        },
        "id": "NeW_JRMY37F4",
        "outputId": "8e88091c-ade2-4b01-c49b-242c1d81dc61"
      },
      "execution_count": 11,
      "outputs": [
        {
          "output_type": "stream",
          "name": "stdout",
          "text": [
            "{'deep': <gensim.models.keyedvectors.Vocab object at 0x7fcd84ecbb50>, 'learning': <gensim.models.keyedvectors.Vocab object at 0x7fcd84ecbcd0>, 'part': <gensim.models.keyedvectors.Vocab object at 0x7fcd84ecbd30>, 'broader': <gensim.models.keyedvectors.Vocab object at 0x7fcd84ecbeb0>, 'family': <gensim.models.keyedvectors.Vocab object at 0x7fcd84ecbe80>, 'machine': <gensim.models.keyedvectors.Vocab object at 0x7fcd84ecbfd0>, 'methods': <gensim.models.keyedvectors.Vocab object at 0x7fcd84ecb340>, 'based': <gensim.models.keyedvectors.Vocab object at 0x7fcd84ecb670>, 'artificial': <gensim.models.keyedvectors.Vocab object at 0x7fcd84ecb640>, 'neural': <gensim.models.keyedvectors.Vocab object at 0x7fcd84ecb790>, 'networks': <gensim.models.keyedvectors.Vocab object at 0x7fcd84ecb730>, 'representation': <gensim.models.keyedvectors.Vocab object at 0x7fcd84ecb190>, '.': <gensim.models.keyedvectors.Vocab object at 0x7fcd84ecb700>, 'supervised': <gensim.models.keyedvectors.Vocab object at 0x7fcd84ecb1c0>, ',': <gensim.models.keyedvectors.Vocab object at 0x7fcd84ecbaf0>, 'semi-supervised': <gensim.models.keyedvectors.Vocab object at 0x7fcd84ecb7c0>, 'unsupervised': <gensim.models.keyedvectors.Vocab object at 0x7fcd84ecb970>, 'deep-learning': <gensim.models.keyedvectors.Vocab object at 0x7fcd84ecb040>, 'architectures': <gensim.models.keyedvectors.Vocab object at 0x7fcd84ecb7f0>, 'belief': <gensim.models.keyedvectors.Vocab object at 0x7fcd8525afa0>, 'reinforcement': <gensim.models.keyedvectors.Vocab object at 0x7fcd8525afd0>, 'recurrent': <gensim.models.keyedvectors.Vocab object at 0x7fcd8525af70>, 'convolutional': <gensim.models.keyedvectors.Vocab object at 0x7fcdb819ae20>, 'transformers': <gensim.models.keyedvectors.Vocab object at 0x7fcd86b43130>, 'applied': <gensim.models.keyedvectors.Vocab object at 0x7fcd86b43100>, 'fields': <gensim.models.keyedvectors.Vocab object at 0x7fcd84f3f040>, 'including': <gensim.models.keyedvectors.Vocab object at 0x7fcd84f3f0a0>, 'computer': <gensim.models.keyedvectors.Vocab object at 0x7fcd84f3f100>, 'vision': <gensim.models.keyedvectors.Vocab object at 0x7fcd84f3f160>, 'speech': <gensim.models.keyedvectors.Vocab object at 0x7fcd84f3f1c0>, 'recognition': <gensim.models.keyedvectors.Vocab object at 0x7fcd84f3f220>, 'natural': <gensim.models.keyedvectors.Vocab object at 0x7fcd84f3f280>, 'language': <gensim.models.keyedvectors.Vocab object at 0x7fcd84f3f2e0>, 'processing': <gensim.models.keyedvectors.Vocab object at 0x7fcd84f3f340>, 'translation': <gensim.models.keyedvectors.Vocab object at 0x7fcd84f3f3a0>, 'bioinformatics': <gensim.models.keyedvectors.Vocab object at 0x7fcd84f3f400>, 'drug': <gensim.models.keyedvectors.Vocab object at 0x7fcd84f3f460>, 'design': <gensim.models.keyedvectors.Vocab object at 0x7fcd84f3f4c0>, 'medical': <gensim.models.keyedvectors.Vocab object at 0x7fcd84f3f520>, 'image': <gensim.models.keyedvectors.Vocab object at 0x7fcd84f3f580>, 'analysis': <gensim.models.keyedvectors.Vocab object at 0x7fcd84f3f5e0>, 'climate': <gensim.models.keyedvectors.Vocab object at 0x7fcd84f3f640>, 'science': <gensim.models.keyedvectors.Vocab object at 0x7fcd84f3f6a0>, 'material': <gensim.models.keyedvectors.Vocab object at 0x7fcd84f3f700>, 'inspection': <gensim.models.keyedvectors.Vocab object at 0x7fcd84f3f760>, 'board': <gensim.models.keyedvectors.Vocab object at 0x7fcd84f3f7c0>, 'game': <gensim.models.keyedvectors.Vocab object at 0x7fcd84f3f820>, 'programs': <gensim.models.keyedvectors.Vocab object at 0x7fcd84f3f880>, 'produced': <gensim.models.keyedvectors.Vocab object at 0x7fcd84f3f8e0>, 'results': <gensim.models.keyedvectors.Vocab object at 0x7fcd84f3f940>, 'comparable': <gensim.models.keyedvectors.Vocab object at 0x7fcd84f3f9a0>, 'cases': <gensim.models.keyedvectors.Vocab object at 0x7fcd84f3fa00>, 'surpassing': <gensim.models.keyedvectors.Vocab object at 0x7fcd84f3fa60>, 'human': <gensim.models.keyedvectors.Vocab object at 0x7fcd84f3fac0>, 'expert': <gensim.models.keyedvectors.Vocab object at 0x7fcd84f3fb20>, 'performance': <gensim.models.keyedvectors.Vocab object at 0x7fcd84f3fb80>, '(': <gensim.models.keyedvectors.Vocab object at 0x7fcd84f3fbe0>, 'anns': <gensim.models.keyedvectors.Vocab object at 0x7fcd84f3fc40>, ')': <gensim.models.keyedvectors.Vocab object at 0x7fcd84f3fca0>, 'inspired': <gensim.models.keyedvectors.Vocab object at 0x7fcd84f3fd00>, 'information': <gensim.models.keyedvectors.Vocab object at 0x7fcd84f3fd60>, 'distributed': <gensim.models.keyedvectors.Vocab object at 0x7fcd84f3fdc0>, 'communication': <gensim.models.keyedvectors.Vocab object at 0x7fcd84f3fe20>, 'nodes': <gensim.models.keyedvectors.Vocab object at 0x7fcd84f3fe80>, 'biological': <gensim.models.keyedvectors.Vocab object at 0x7fcd84f3fee0>, 'systems': <gensim.models.keyedvectors.Vocab object at 0x7fcd84f3ff40>, 'various': <gensim.models.keyedvectors.Vocab object at 0x7fcd84f3ffa0>, 'differences': <gensim.models.keyedvectors.Vocab object at 0x7fcd84dad040>, 'brains': <gensim.models.keyedvectors.Vocab object at 0x7fcd84dad0a0>, 'specifically': <gensim.models.keyedvectors.Vocab object at 0x7fcd84dad100>, 'tend': <gensim.models.keyedvectors.Vocab object at 0x7fcd84dad160>, 'static': <gensim.models.keyedvectors.Vocab object at 0x7fcd84dad1c0>, 'symbolic': <gensim.models.keyedvectors.Vocab object at 0x7fcd84dad220>, 'brain': <gensim.models.keyedvectors.Vocab object at 0x7fcd84dad280>, 'living': <gensim.models.keyedvectors.Vocab object at 0x7fcd84dad2e0>, 'organisms': <gensim.models.keyedvectors.Vocab object at 0x7fcd84dad340>, 'dynamic': <gensim.models.keyedvectors.Vocab object at 0x7fcd84dad3a0>, 'plastic': <gensim.models.keyedvectors.Vocab object at 0x7fcd84dad400>, 'analog': <gensim.models.keyedvectors.Vocab object at 0x7fcd84dad460>, 'adjective': <gensim.models.keyedvectors.Vocab object at 0x7fcd84dad4c0>, '``': <gensim.models.keyedvectors.Vocab object at 0x7fcd84dad520>, \"''\": <gensim.models.keyedvectors.Vocab object at 0x7fcd84dad580>, 'refers': <gensim.models.keyedvectors.Vocab object at 0x7fcd84dad5e0>, 'use': <gensim.models.keyedvectors.Vocab object at 0x7fcd84dad640>, 'multiple': <gensim.models.keyedvectors.Vocab object at 0x7fcd84dad6a0>, 'layers': <gensim.models.keyedvectors.Vocab object at 0x7fcd84dad700>, 'network': <gensim.models.keyedvectors.Vocab object at 0x7fcd84dad760>, 'early': <gensim.models.keyedvectors.Vocab object at 0x7fcd84dad7c0>, 'work': <gensim.models.keyedvectors.Vocab object at 0x7fcd84dad820>, 'showed': <gensim.models.keyedvectors.Vocab object at 0x7fcd84dad880>, 'linear': <gensim.models.keyedvectors.Vocab object at 0x7fcd84dad8e0>, 'perceptron': <gensim.models.keyedvectors.Vocab object at 0x7fcd84dad940>, 'universal': <gensim.models.keyedvectors.Vocab object at 0x7fcd84dad9a0>, 'classifier': <gensim.models.keyedvectors.Vocab object at 0x7fcd84dada00>, 'nonpolynomial': <gensim.models.keyedvectors.Vocab object at 0x7fcd84dada60>, 'activation': <gensim.models.keyedvectors.Vocab object at 0x7fcd84dadac0>, 'function': <gensim.models.keyedvectors.Vocab object at 0x7fcd84dadb20>, 'one': <gensim.models.keyedvectors.Vocab object at 0x7fcd84dadb80>, 'hidden': <gensim.models.keyedvectors.Vocab object at 0x7fcd84dadbe0>, 'layer': <gensim.models.keyedvectors.Vocab object at 0x7fcd84dadc40>, 'unbounded': <gensim.models.keyedvectors.Vocab object at 0x7fcd84dadca0>, 'width': <gensim.models.keyedvectors.Vocab object at 0x7fcd84dadd00>, 'modern': <gensim.models.keyedvectors.Vocab object at 0x7fcd84dadd60>, 'variation': <gensim.models.keyedvectors.Vocab object at 0x7fcd84daddc0>, 'concerned': <gensim.models.keyedvectors.Vocab object at 0x7fcd84dade20>, 'number': <gensim.models.keyedvectors.Vocab object at 0x7fcd84dade80>, 'bounded': <gensim.models.keyedvectors.Vocab object at 0x7fcd84dadee0>, 'size': <gensim.models.keyedvectors.Vocab object at 0x7fcd84dadf40>, 'permits': <gensim.models.keyedvectors.Vocab object at 0x7fcd84dadfa0>, 'practical': <gensim.models.keyedvectors.Vocab object at 0x7fcd84dae040>, 'application': <gensim.models.keyedvectors.Vocab object at 0x7fcd84dae0a0>, 'optimized': <gensim.models.keyedvectors.Vocab object at 0x7fcd84dae100>, 'implementation': <gensim.models.keyedvectors.Vocab object at 0x7fcd84dae160>, 'retaining': <gensim.models.keyedvectors.Vocab object at 0x7fcd84dae1c0>, 'theoretical': <gensim.models.keyedvectors.Vocab object at 0x7fcd84dae220>, 'universality': <gensim.models.keyedvectors.Vocab object at 0x7fcd84dae280>, 'mild': <gensim.models.keyedvectors.Vocab object at 0x7fcd84dae2e0>, 'conditions': <gensim.models.keyedvectors.Vocab object at 0x7fcd84dae340>, 'also': <gensim.models.keyedvectors.Vocab object at 0x7fcd84dae3a0>, 'permitted': <gensim.models.keyedvectors.Vocab object at 0x7fcd84dae400>, 'heterogeneous': <gensim.models.keyedvectors.Vocab object at 0x7fcd84dae460>, 'deviate': <gensim.models.keyedvectors.Vocab object at 0x7fcd84dae4c0>, 'widely': <gensim.models.keyedvectors.Vocab object at 0x7fcd84dae520>, 'biologically': <gensim.models.keyedvectors.Vocab object at 0x7fcd84dae580>, 'informed': <gensim.models.keyedvectors.Vocab object at 0x7fcd84dae5e0>, 'connectionist': <gensim.models.keyedvectors.Vocab object at 0x7fcd84dae640>, 'models': <gensim.models.keyedvectors.Vocab object at 0x7fcd84dae6a0>, 'sake': <gensim.models.keyedvectors.Vocab object at 0x7fcd84dae700>, 'efficiency': <gensim.models.keyedvectors.Vocab object at 0x7fcd84dae760>, 'trainability': <gensim.models.keyedvectors.Vocab object at 0x7fcd84dae7c0>, 'understandability': <gensim.models.keyedvectors.Vocab object at 0x7fcd84dae820>}\n"
          ]
        }
      ]
    },
    {
      "cell_type": "code",
      "source": [
        "# 100 dimensions vector\n",
        "vector = model.wv['part']\n",
        "print(vector)"
      ],
      "metadata": {
        "colab": {
          "base_uri": "https://localhost:8080/"
        },
        "id": "J49gE7635U_O",
        "outputId": "59a55a44-0219-45b3-dbf4-a829b464547c"
      },
      "execution_count": 12,
      "outputs": [
        {
          "output_type": "stream",
          "name": "stdout",
          "text": [
            "[-0.00487201 -0.00289658  0.00336148 -0.00430358  0.00465859  0.00468074\n",
            "  0.00431205  0.00298994  0.00387097  0.00284325  0.00452107 -0.00161\n",
            "  0.0039892  -0.00046646  0.00088073 -0.00113052 -0.00367347  0.00106022\n",
            "  0.00483589 -0.00042781 -0.00479296  0.00420837  0.0024699  -0.00141932\n",
            " -0.00075563  0.00386862 -0.00397212  0.00144331 -0.0021807   0.00318336\n",
            " -0.00030846 -0.000179    0.00332217  0.00432732 -0.00083536  0.0019185\n",
            " -0.00025821  0.00484245  0.00054539  0.00290353  0.0012291   0.00315381\n",
            " -0.0012511   0.00129946 -0.00410683 -0.00430806  0.00444315  0.00185866\n",
            " -0.00197498  0.00273633  0.00227685 -0.00442322 -0.00273104  0.00494389\n",
            " -0.00439087 -0.00039973  0.00054528 -0.00244278  0.00202315 -0.00381394\n",
            " -0.00376099 -0.00414475 -0.0046623  -0.00251144  0.00247875  0.00092678\n",
            " -0.00389225  0.00487739  0.00113974 -0.00097557  0.00242748 -0.0042532\n",
            " -0.00355702 -0.00160999 -0.00258052 -0.00039925  0.00277701  0.00384782\n",
            "  0.00225716 -0.00067015 -0.00418827  0.00430855 -0.00362663 -0.00021787\n",
            "  0.0027156  -0.0023143   0.0030607   0.00496556 -0.00042783 -0.00273286\n",
            "  0.00172532  0.00408741 -0.00079017 -0.00472813  0.00024288  0.00236066\n",
            "  0.00478869 -0.00034027  0.00225275 -0.00073301]\n"
          ]
        }
      ]
    },
    {
      "cell_type": "code",
      "source": [
        "similar = model.wv.most_similar('part')\n",
        "print(similar)"
      ],
      "metadata": {
        "colab": {
          "base_uri": "https://localhost:8080/"
        },
        "id": "20PIgO5D5qdj",
        "outputId": "bcccea4f-8868-4035-88a1-b94c9aaeb47b"
      },
      "execution_count": 13,
      "outputs": [
        {
          "output_type": "stream",
          "name": "stdout",
          "text": [
            "[('language', 0.3447627127170563), ('based', 0.25503993034362793), ('fields', 0.1978292167186737), ('trainability', 0.18505042791366577), ('analog', 0.17763859033584595), ('widely', 0.16966891288757324), ('bioinformatics', 0.16537287831306458), ('programs', 0.16369180381298065), ('artificial', 0.16335296630859375), ('practical', 0.1587037444114685)]\n"
          ]
        }
      ]
    }
  ]
}